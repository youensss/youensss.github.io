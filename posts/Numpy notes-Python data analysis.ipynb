{
 "cells": [
  {
   "cell_type": "markdown",
   "id": "e788f562-2831-451a-b108-7607b33ebc28",
   "metadata": {},
   "source": [
    "# Numpy\n",
    "NumPy, short for Numerical Python, has such advantages:\n",
    "- Fast vectorized array operations for [data munging](https://www.experian.co.uk/business/glossary/data-munging/) and cleaning, subsetting and filtering, transformation, and any other kinds of computations\n",
    "- Common array algorithms like sorting, unique, and set operations\n",
    "- Efficient descriptive statistics and aggregating/summarizing data\n",
    "- Data alignment and relational data manipulations for merging and joining together heterogeneous datasets\n",
    "- Expressing conditional logic as array expressions instead of loops with `if-elif-else` branches\n",
    "- Group-wise data manipulations (aggregation, transformation, function application)\n",
    "\n",
    "[Pure Python leaves many details to runtime environment:](https://python-programming.quantecon.org/need_for_speed.html)\n",
    "- specifying variable types\n",
    "- memory allocation/deallocation, etc\n",
    "**NumPy is fast**. \n",
    "- NumPy internally stores data in a contiguous block of memory, independent of other built-in Python objects. NumPy's library of algorithms written in the C language can operate on this memory without any type checking or other overhead. NumPy arrays also use much less memory than built-in Python sequences. \n",
    "- NumPy operations perform complex computations on entire arrays without the need for Python `for` loops.\n"
   ]
  },
  {
   "cell_type": "code",
   "execution_count": 1,
   "id": "6bc0d0f6-34f6-4c1c-a2c8-494b7e097381",
   "metadata": {},
   "outputs": [],
   "source": [
    "import numpy as np"
   ]
  },
  {
   "cell_type": "code",
   "execution_count": 2,
   "id": "3c1abac7-5079-46fc-a8db-2e0963525ce8",
   "metadata": {},
   "outputs": [],
   "source": [
    "# speed test for numpy\n",
    "my_arr = np.arange(1000_000)\n",
    "my_list = list(range(1000_000))"
   ]
  },
  {
   "cell_type": "code",
   "execution_count": 3,
   "id": "7ff624a0-38e8-48d4-a1a1-ed6159da7cbd",
   "metadata": {},
   "outputs": [
    {
     "name": "stdout",
     "output_type": "stream",
     "text": [
      "Wall time: 2.99 ms\n"
     ]
    }
   ],
   "source": [
    "%%time\n",
    "my_arr2 = my_arr * 2"
   ]
  },
  {
   "cell_type": "code",
   "execution_count": 4,
   "id": "09f73512-db8c-4faa-a782-cca6b1a9a304",
   "metadata": {},
   "outputs": [
    {
     "name": "stdout",
     "output_type": "stream",
     "text": [
      "Wall time: 114 ms\n"
     ]
    }
   ],
   "source": [
    "%%time\n",
    "my_list2 = [x * 2 for x in my_list]"
   ]
  },
  {
   "cell_type": "markdown",
   "id": "1f8d82b7-48e0-453e-a686-9bfd6cde0631",
   "metadata": {},
   "source": [
    "## ndarray\n",
    "An ***ndarray*** (N dimensional array) is a generic multidimensional container for **homogeneous** data; that is, all of the elements must be the same type (free of type checking). Every array has a ***shape***, a tuple indicating the size of each dimension; a ***dtype***, an object describing the data type of the array; a ***ndim***, an integer indicating the dimension of the ndarray."
   ]
  },
  {
   "cell_type": "code",
   "execution_count": 5,
   "id": "d1239e1c-8b1b-4253-9b54-4b94ef924667",
   "metadata": {},
   "outputs": [
    {
     "data": {
      "text/plain": [
       "array([[ 0.59905431, -1.08465416, -0.95319914,  1.93616798],\n",
       "       [ 0.92951762,  0.81376066,  0.87067676, -0.05844408],\n",
       "       [ 0.61867604, -0.78530194, -0.93464763,  0.74309266]])"
      ]
     },
     "execution_count": 5,
     "metadata": {},
     "output_type": "execute_result"
    }
   ],
   "source": [
    "data = np.random.randn(3, 4)\n",
    "data"
   ]
  },
  {
   "cell_type": "code",
   "execution_count": 6,
   "id": "4d229508-edc0-469d-84ce-8093b4771217",
   "metadata": {},
   "outputs": [
    {
     "data": {
      "text/plain": [
       "(3, 4)"
      ]
     },
     "execution_count": 6,
     "metadata": {},
     "output_type": "execute_result"
    }
   ],
   "source": [
    "data.shape"
   ]
  },
  {
   "cell_type": "code",
   "execution_count": 7,
   "id": "f7ea14e4-984b-4e7f-8a24-2eb71705bfb9",
   "metadata": {},
   "outputs": [
    {
     "data": {
      "text/plain": [
       "dtype('float64')"
      ]
     },
     "execution_count": 7,
     "metadata": {},
     "output_type": "execute_result"
    }
   ],
   "source": [
    "data.dtype"
   ]
  },
  {
   "cell_type": "code",
   "execution_count": 8,
   "id": "3698e9e8-0b2d-482b-8ac1-0627b1bcd13a",
   "metadata": {},
   "outputs": [
    {
     "data": {
      "text/plain": [
       "2"
      ]
     },
     "execution_count": 8,
     "metadata": {},
     "output_type": "execute_result"
    }
   ],
   "source": [
    "data.ndim"
   ]
  },
  {
   "cell_type": "markdown",
   "id": "c7240d31-792d-4c79-8ccf-7a53d3a5367e",
   "metadata": {},
   "source": [
    "### Creating ndarrays\n",
    "#### `array` function. \n",
    "`array` function accepts any sequence-like object (list, list of lists, other arrays, etc) and produces a new NumPy array containing the passed data. **Unless explicitly specified, `np.array` tries to infer a good data type for the array that it creates**. The data type is stored in a special ***dtype*** metadata object."
   ]
  },
  {
   "cell_type": "code",
   "execution_count": 9,
   "id": "e39f5906-0fcb-4747-8e72-ed1d4b3a8d39",
   "metadata": {},
   "outputs": [
    {
     "name": "stdout",
     "output_type": "stream",
     "text": [
      "[1 2 3 4]\n",
      "(4,)\n",
      "int32\n",
      "1\n"
     ]
    }
   ],
   "source": [
    "# passing list\n",
    "arr1 = np.array([1, 2, 3, 4])\n",
    "print(arr1)\n",
    "print(arr1.shape)\n",
    "print(arr1.dtype)\n",
    "print(arr1.ndim)"
   ]
  },
  {
   "cell_type": "code",
   "execution_count": 10,
   "id": "f3a4f13c-33de-4d37-afaf-1647c56adfeb",
   "metadata": {},
   "outputs": [
    {
     "name": "stdout",
     "output_type": "stream",
     "text": [
      "[[1 2 3]\n",
      " [4 5 6]]\n",
      "(2, 3)\n",
      "int32\n",
      "2\n"
     ]
    }
   ],
   "source": [
    "# passing list of lists\n",
    "arr2 = np.array([[1, 2, 3],\n",
    "                 [4, 5, 6]])\n",
    "print(arr2)\n",
    "print(arr2.shape)\n",
    "print(arr2.dtype)\n",
    "print(arr2.ndim)"
   ]
  },
  {
   "cell_type": "code",
   "execution_count": 11,
   "id": "3b44e694-1ee7-4dcc-ae17-c99f0eed0ed2",
   "metadata": {},
   "outputs": [
    {
     "name": "stdout",
     "output_type": "stream",
     "text": [
      "[[1 2 3]\n",
      " [4 5 6]]\n",
      "(2, 3)\n",
      "int32\n",
      "2\n"
     ]
    }
   ],
   "source": [
    "# passing array\n",
    "arr3 = np.array(arr2)\n",
    "print(arr3)\n",
    "print(arr3.shape)\n",
    "print(arr3.dtype)\n",
    "print(arr3.ndim)"
   ]
  },
  {
   "cell_type": "markdown",
   "id": "5794f344-4a6a-453f-9830-3ef8ff573e7d",
   "metadata": {},
   "source": [
    "#### `zeros`,`ones`,`empty`,`arange` etc\n",
    "Function|Description\n",
    "-|:-:\n",
    "array|Convert input data (list, tuple, array, or other sequence type) to an ndarray either by inferring a dtype or explicitly specifying a dtype; copies the input data by default\n",
    "asarray|Convert input to ndarray, but do not copy if the input is already an ndarray\n",
    "arange|Like the built-in range but returns an ndarray instead of a list\n",
    "ones|Produce an array of all 1s with the given shape and dtype\n",
    "ones_like|Takes another array and produces a ones array of the same shape and dtype\n",
    "zeros|Like ones but producing arrays of 0s instead\n",
    "zeros_like|Like ones_like but producing arrays of 0s instead\n",
    "empty|Create new arrays by allocating new memory, but do not populate with any values\n",
    "empty_like|Like ones_like but do not populate with any values\n",
    "full|Produce an array of the given shape and dtype with all values set to the indicated \"fill value\"\n",
    "full_like|full_like takes another array and produces a filled array of the same shape and dtype\n",
    "eye, identity|Create a square NxN identity matrix"
   ]
  },
  {
   "cell_type": "code",
   "execution_count": 12,
   "id": "6575fd49-004a-4529-ac3e-4d57f4b5772c",
   "metadata": {},
   "outputs": [
    {
     "data": {
      "text/plain": [
       "array([0., 0., 0., 0.])"
      ]
     },
     "execution_count": 12,
     "metadata": {},
     "output_type": "execute_result"
    }
   ],
   "source": [
    "# np.zeros\n",
    "np.zeros(4)"
   ]
  },
  {
   "cell_type": "code",
   "execution_count": 13,
   "id": "2b616250-863a-4684-8bbc-f237ae0e0a53",
   "metadata": {},
   "outputs": [
    {
     "data": {
      "text/plain": [
       "array([[1., 1., 1.],\n",
       "       [1., 1., 1.]])"
      ]
     },
     "execution_count": 13,
     "metadata": {},
     "output_type": "execute_result"
    }
   ],
   "source": [
    "# np.ones\n",
    "np.ones((2, 3))"
   ]
  },
  {
   "cell_type": "code",
   "execution_count": 14,
   "id": "313dca4e-cb6d-4e73-a474-1884afad43e7",
   "metadata": {},
   "outputs": [
    {
     "data": {
      "text/plain": [
       "array([[[0.59905431, 1.08465416],\n",
       "        [0.95319914, 1.93616798],\n",
       "        [0.92951762, 0.81376066]],\n",
       "\n",
       "       [[0.87067676, 0.05844408],\n",
       "        [0.61867604, 0.78530194],\n",
       "        [0.93464763, 0.74309266]]])"
      ]
     },
     "execution_count": 14,
     "metadata": {},
     "output_type": "execute_result"
    }
   ],
   "source": [
    "# np.empty return uninitialized \"garbage\" values, which can later be populated with data\n",
    "np.empty((2, 3, 2))"
   ]
  },
  {
   "cell_type": "code",
   "execution_count": 15,
   "id": "c656aa64-96cd-404d-98ae-5a6ea7eba135",
   "metadata": {},
   "outputs": [
    {
     "data": {
      "text/plain": [
       "array([0, 1, 2, 3, 4, 5, 6, 7, 8, 9])"
      ]
     },
     "execution_count": 15,
     "metadata": {},
     "output_type": "execute_result"
    }
   ],
   "source": [
    "# arange ia an array-valued version of the build-in Python range function\n",
    "np.arange(10)"
   ]
  },
  {
   "cell_type": "markdown",
   "id": "961c13ba-c8ad-4b5c-896f-c2960eb82830",
   "metadata": {},
   "source": [
    "### Data Types for ndarrays\n",
    "The data type or ***dtype*** is a special object containing the information (or metadata, data about data) the ndarray needs to interpret a chunk of memory as a particular type of data. **In most cases dtype provide a mapping directly onto an  underlying disk or memory representation, which makes it easy to read and write binary streams of data to disk and also to connect to code written in a low-level language like C or Fortran.**"
   ]
  },
  {
   "cell_type": "markdown",
   "id": "aaeeeb4c-4abd-41a0-95e6-9b9b98a71e57",
   "metadata": {},
   "source": [
    "### Arithmetic with NumPy Arrays\n",
    "***Vectorization*** - Any arithmetic operations between equal-size arrays applies the operation element-wise."
   ]
  },
  {
   "cell_type": "code",
   "execution_count": 16,
   "id": "bf36d74e-68fa-4cba-8bc0-3306d75f98c2",
   "metadata": {},
   "outputs": [
    {
     "data": {
      "text/plain": [
       "array([[ 0.07338553,  0.8116425 , -2.17800941, -0.32029061],\n",
       "       [ 0.41584223, -1.32481565, -1.3783163 ,  0.26723131],\n",
       "       [-0.31385858,  1.30899248,  1.13523462, -0.68452327]])"
      ]
     },
     "execution_count": 16,
     "metadata": {},
     "output_type": "execute_result"
    }
   ],
   "source": [
    "arr = np.random.randn(3, 4)\n",
    "arr"
   ]
  },
  {
   "cell_type": "code",
   "execution_count": 17,
   "id": "95c313d2-20d2-494c-a07a-4537fdb572a0",
   "metadata": {},
   "outputs": [
    {
     "data": {
      "text/plain": [
       "array([[ 0.14677106,  1.62328501, -4.35601882, -0.64058122],\n",
       "       [ 0.83168445, -2.64963129, -2.75663261,  0.53446262],\n",
       "       [-0.62771717,  2.61798496,  2.27046924, -1.36904654]])"
      ]
     },
     "execution_count": 17,
     "metadata": {},
     "output_type": "execute_result"
    }
   ],
   "source": [
    "arr * 2"
   ]
  },
  {
   "cell_type": "code",
   "execution_count": 18,
   "id": "952c23d1-2d8a-4e4c-a913-c1a5116553aa",
   "metadata": {},
   "outputs": [
    {
     "data": {
      "text/plain": [
       "array([[0., 0., 0., 0.],\n",
       "       [0., 0., 0., 0.],\n",
       "       [0., 0., 0., 0.]])"
      ]
     },
     "execution_count": 18,
     "metadata": {},
     "output_type": "execute_result"
    }
   ],
   "source": [
    "arr - arr"
   ]
  },
  {
   "cell_type": "code",
   "execution_count": 19,
   "id": "d501775d-5885-4181-97d7-64065a297689",
   "metadata": {},
   "outputs": [
    {
     "data": {
      "text/plain": [
       "array([[13.62666475,  1.23206953, -0.45913484, -3.1221646 ],\n",
       "       [ 2.4047582 , -0.754822  , -0.72552287,  3.74207649],\n",
       "       [-3.18614831,  0.76394633,  0.88087518, -1.46087072]])"
      ]
     },
     "execution_count": 19,
     "metadata": {},
     "output_type": "execute_result"
    }
   ],
   "source": [
    "1 / arr"
   ]
  },
  {
   "cell_type": "markdown",
   "id": "e8c37bdb-0aa6-4272-a9de-73d773bbb4b6",
   "metadata": {},
   "source": [
    "***Broadcasting*** - Operations between differently sized arrays."
   ]
  },
  {
   "cell_type": "markdown",
   "id": "10fe5823-d162-403b-9d6b-5b1a1a24535c",
   "metadata": {},
   "source": [
    "### Basic Indexing and Slicing\n",
    "One-dimensional array indexing and slicing act similarly to Python lists."
   ]
  },
  {
   "cell_type": "code",
   "execution_count": 20,
   "id": "dc693292-b81a-4151-85b9-f5c23dc603c6",
   "metadata": {},
   "outputs": [
    {
     "name": "stdout",
     "output_type": "stream",
     "text": [
      "[0 1 2 3 4 5 6 7 8 9]\n",
      "0\n"
     ]
    }
   ],
   "source": [
    "# indexing\n",
    "arr = np.arange(10)\n",
    "print(arr)\n",
    "print(arr[0])"
   ]
  },
  {
   "cell_type": "code",
   "execution_count": 21,
   "id": "934a41b1-fdf8-48c5-9208-cb8d994bfcfe",
   "metadata": {},
   "outputs": [
    {
     "name": "stdout",
     "output_type": "stream",
     "text": [
      "[1 2 3]\n"
     ]
    }
   ],
   "source": [
    "# slicing\n",
    "print(arr[1:4])"
   ]
  },
  {
   "cell_type": "markdown",
   "id": "e6d41c63-45d9-4059-871d-146227277974",
   "metadata": {},
   "source": [
    "Array slices are ***views*** on the original array, which means any modification to the view will be reflected in the source array. This design intends to obtain high performance and save memory."
   ]
  },
  {
   "cell_type": "code",
   "execution_count": 22,
   "id": "369e3b2d-3e8f-4094-a6a1-a4fdd55bf517",
   "metadata": {},
   "outputs": [
    {
     "data": {
      "text/plain": [
       "array([0, 1, 2, 3, 4, 5, 6, 7, 8, 9])"
      ]
     },
     "execution_count": 22,
     "metadata": {},
     "output_type": "execute_result"
    }
   ],
   "source": [
    "arr = np.arange(10)\n",
    "arr"
   ]
  },
  {
   "cell_type": "code",
   "execution_count": 23,
   "id": "f8e41f8f-c465-4afb-9574-5faa01c31ea1",
   "metadata": {},
   "outputs": [
    {
     "data": {
      "text/plain": [
       "array([ 0, 10, 10, 10, 10,  5,  6,  7,  8,  9])"
      ]
     },
     "execution_count": 23,
     "metadata": {},
     "output_type": "execute_result"
    }
   ],
   "source": [
    "arr[1:5] = 10\n",
    "arr"
   ]
  },
  {
   "cell_type": "markdown",
   "id": "4429a410-c8c3-407a-8214-2ed2c7d4b1ee",
   "metadata": {},
   "source": [
    "For higher dimensional arrays, we can access every individual element recursively. First, indexing moves along axis 0 as the \"rows\" of the array and then axis 1 as the \"columns\"."
   ]
  },
  {
   "cell_type": "code",
   "execution_count": 25,
   "id": "1e9e4d6d-f856-4373-adec-7c374d0ca4a2",
   "metadata": {},
   "outputs": [
    {
     "data": {
      "text/plain": [
       "array([[0, 1, 2],\n",
       "       [3, 4, 5],\n",
       "       [6, 7, 8]])"
      ]
     },
     "execution_count": 25,
     "metadata": {},
     "output_type": "execute_result"
    }
   ],
   "source": [
    "arr = np.arange(9).reshape(3,3)\n",
    "arr"
   ]
  },
  {
   "cell_type": "code",
   "execution_count": 29,
   "id": "91b0d249-c40c-40c1-8c5f-bc0e3f02372c",
   "metadata": {},
   "outputs": [
    {
     "data": {
      "text/plain": [
       "array([3, 4, 5])"
      ]
     },
     "execution_count": 29,
     "metadata": {},
     "output_type": "execute_result"
    }
   ],
   "source": [
    "# indexing along axis 0\n",
    "arr[1]"
   ]
  },
  {
   "cell_type": "code",
   "execution_count": 27,
   "id": "a834293f-1711-4c6c-8061-ac727c533be6",
   "metadata": {},
   "outputs": [
    {
     "data": {
      "text/plain": [
       "3"
      ]
     },
     "execution_count": 27,
     "metadata": {},
     "output_type": "execute_result"
    }
   ],
   "source": [
    "# recursively indexing\n",
    "arr[1][0]"
   ]
  },
  {
   "cell_type": "code",
   "execution_count": 28,
   "id": "1b685743-e0e0-4ee5-a0e9-8f9c729d6e61",
   "metadata": {},
   "outputs": [
    {
     "data": {
      "text/plain": [
       "3"
      ]
     },
     "execution_count": 28,
     "metadata": {},
     "output_type": "execute_result"
    }
   ],
   "source": [
    "# easy and equivalent way\n",
    "arr[1, 0]"
   ]
  },
  {
   "cell_type": "code",
   "execution_count": 31,
   "id": "4eab4e47-b8d4-402c-8872-55e4bbe67e13",
   "metadata": {},
   "outputs": [
    {
     "data": {
      "text/plain": [
       "array([[0, 1, 2],\n",
       "       [3, 4, 5]])"
      ]
     },
     "execution_count": 31,
     "metadata": {},
     "output_type": "execute_result"
    }
   ],
   "source": [
    "# indexing with slices, slice along axis 0\n",
    "arr[:2]"
   ]
  },
  {
   "cell_type": "code",
   "execution_count": 32,
   "id": "2b9a3e79-92fc-4fb4-b61e-3e9edf75cf8d",
   "metadata": {},
   "outputs": [
    {
     "data": {
      "text/plain": [
       "array([[0, 1],\n",
       "       [3, 4]])"
      ]
     },
     "execution_count": 32,
     "metadata": {},
     "output_type": "execute_result"
    }
   ],
   "source": [
    "# recursively indexing with slices\n",
    "arr[:2, :2]"
   ]
  },
  {
   "cell_type": "markdown",
   "id": "51fb4be1-09b7-4a30-b61e-e6edda979f44",
   "metadata": {},
   "source": [
    "### Boolean Indexing\n",
    "Selecting data from an array by boolean indexing always creates a **copy** of the data."
   ]
  },
  {
   "cell_type": "code",
   "execution_count": 34,
   "id": "cb618b2d-1801-4cf9-ac3a-a64297566d51",
   "metadata": {},
   "outputs": [
    {
     "data": {
      "text/plain": [
       "array([['Bob', '1', '2', '3'],\n",
       "       ['Luffy', '2', '3', '4'],\n",
       "       ['Joe', '6', '7', '8']], dtype='<U11')"
      ]
     },
     "execution_count": 34,
     "metadata": {},
     "output_type": "execute_result"
    }
   ],
   "source": [
    "arr = np.array([[\"Bob\", 1, 2, 3],\n",
    "                [\"Luffy\", 2, 3, 4],\n",
    "                [\"Joe\", 6, 7, 8]])\n",
    "arr"
   ]
  },
  {
   "cell_type": "code",
   "execution_count": 37,
   "id": "569beafa-34ef-4259-896e-e9909ecffb77",
   "metadata": {},
   "outputs": [
    {
     "data": {
      "text/plain": [
       "array(['Bob', 'Luffy', 'Joe'], dtype='<U11')"
      ]
     },
     "execution_count": 37,
     "metadata": {},
     "output_type": "execute_result"
    }
   ],
   "source": [
    "names = arr[:, 0]\n",
    "names"
   ]
  },
  {
   "cell_type": "code",
   "execution_count": 39,
   "id": "1008217c-2df4-4762-b276-f7838f390146",
   "metadata": {},
   "outputs": [
    {
     "data": {
      "text/plain": [
       "array([False,  True, False])"
      ]
     },
     "execution_count": 39,
     "metadata": {},
     "output_type": "execute_result"
    }
   ],
   "source": [
    "luffy_selected = (names == \"Luffy\")\n",
    "luffy_selected"
   ]
  },
  {
   "cell_type": "code",
   "execution_count": 49,
   "id": "baf20bbe-89cc-4348-9153-bced2edd9897",
   "metadata": {},
   "outputs": [
    {
     "data": {
      "text/plain": [
       "array([['Luffy', '2', '3', '4']], dtype='<U11')"
      ]
     },
     "execution_count": 49,
     "metadata": {},
     "output_type": "execute_result"
    }
   ],
   "source": [
    "# boolean indexing slice along axis 0, select 'true' rows\n",
    "arr[luffy_selected]"
   ]
  },
  {
   "cell_type": "code",
   "execution_count": 50,
   "id": "d24cfe80-4914-441f-9742-887372cda09b",
   "metadata": {},
   "outputs": [
    {
     "data": {
      "text/plain": [
       "array([['Bob', '1', '2', '3'],\n",
       "       ['Joe', '6', '7', '8']], dtype='<U11')"
      ]
     },
     "execution_count": 50,
     "metadata": {},
     "output_type": "execute_result"
    }
   ],
   "source": [
    "# select everything except luffy, use != or negate the condition using ~\n",
    "arr[names != \"Luffy\"]"
   ]
  },
  {
   "cell_type": "code",
   "execution_count": 51,
   "id": "418c6dab-15f8-40c2-9436-17cb5a873b97",
   "metadata": {},
   "outputs": [
    {
     "data": {
      "text/plain": [
       "array([['Bob', '1', '2', '3'],\n",
       "       ['Joe', '6', '7', '8']], dtype='<U11')"
      ]
     },
     "execution_count": 51,
     "metadata": {},
     "output_type": "execute_result"
    }
   ],
   "source": [
    "arr[~luffy_selected]"
   ]
  },
  {
   "cell_type": "code",
   "execution_count": 52,
   "id": "7236e1d0-d1af-42ee-b7d2-e7469ca973ec",
   "metadata": {},
   "outputs": [
    {
     "data": {
      "text/plain": [
       "array([ True, False,  True])"
      ]
     },
     "execution_count": 52,
     "metadata": {},
     "output_type": "execute_result"
    }
   ],
   "source": [
    "# select two of the three names to combine multiple boolean conditions, use boolean arithmetic operators like & and |\n",
    "mask = (names==\"Bob\")|(names==\"Joe\")\n",
    "mask"
   ]
  },
  {
   "cell_type": "code",
   "execution_count": 53,
   "id": "d71ecef8-5130-403d-ac53-01da08603827",
   "metadata": {},
   "outputs": [
    {
     "data": {
      "text/plain": [
       "array([['Bob', '1', '2', '3'],\n",
       "       ['Joe', '6', '7', '8']], dtype='<U11')"
      ]
     },
     "execution_count": 53,
     "metadata": {},
     "output_type": "execute_result"
    }
   ],
   "source": [
    "arr[mask]"
   ]
  },
  {
   "cell_type": "markdown",
   "id": "42a6c583-f317-485e-b1c8-5c3eca881b66",
   "metadata": {},
   "source": [
    "### Fancy Indexing\n",
    "- ***Fancy indexing*** is a term adopted by NumPy to describe indexing using integer arrays.\n",
    "- The result of fancy indexing is always one-dimensional.\n",
    "- Fancy indexing always copies the data into a new array."
   ]
  },
  {
   "cell_type": "code",
   "execution_count": 54,
   "id": "cdb08c04-8171-440b-af6e-5ee94092ecc9",
   "metadata": {},
   "outputs": [
    {
     "data": {
      "text/plain": [
       "array([[0., 0., 0., 0.],\n",
       "       [1., 1., 1., 1.],\n",
       "       [2., 2., 2., 2.],\n",
       "       [3., 3., 3., 3.],\n",
       "       [4., 4., 4., 4.],\n",
       "       [5., 5., 5., 5.],\n",
       "       [6., 6., 6., 6.],\n",
       "       [7., 7., 7., 7.]])"
      ]
     },
     "execution_count": 54,
     "metadata": {},
     "output_type": "execute_result"
    }
   ],
   "source": [
    "# create a 8x4 array\n",
    "arr = np.empty((8, 4))\n",
    "for i in range(8):\n",
    "    arr[i] = i\n",
    "arr"
   ]
  },
  {
   "cell_type": "code",
   "execution_count": 56,
   "id": "f18c489e-6ec0-49ea-88f3-3f7cf363c09f",
   "metadata": {},
   "outputs": [
    {
     "data": {
      "text/plain": [
       "array([[4., 4., 4., 4.],\n",
       "       [3., 3., 3., 3.],\n",
       "       [5., 5., 5., 5.],\n",
       "       [6., 6., 6., 6.]])"
      ]
     },
     "execution_count": 56,
     "metadata": {},
     "output_type": "execute_result"
    }
   ],
   "source": [
    "# fancy indexing by passing a list\n",
    "arr[[4, 3, 5, 6]]"
   ]
  },
  {
   "cell_type": "code",
   "execution_count": 57,
   "id": "c44764b2-ffc6-4713-9ea2-90bb4f573bdf",
   "metadata": {},
   "outputs": [
    {
     "data": {
      "text/plain": [
       "array([ 4, 23, 29, 10])"
      ]
     },
     "execution_count": 57,
     "metadata": {},
     "output_type": "execute_result"
    }
   ],
   "source": [
    "# passing multiple index arrays selects a one-dimensional array of elements corresponding to each tuple of indices\n",
    "# select (1,0), (5,3), (7,1), (2,2)\n",
    "arr = np.arange(32).reshape(8,4)\n",
    "arr[[1, 5, 7, 2], [0, 3, 1, 2]]"
   ]
  },
  {
   "cell_type": "code",
   "execution_count": 59,
   "id": "792f6e37-dfff-4bc1-b89f-894b7c7ed1a2",
   "metadata": {},
   "outputs": [
    {
     "data": {
      "text/plain": [
       "array([[ 4,  7,  5,  6],\n",
       "       [20, 23, 21, 22],\n",
       "       [28, 31, 29, 30],\n",
       "       [ 8, 11,  9, 10]])"
      ]
     },
     "execution_count": 59,
     "metadata": {},
     "output_type": "execute_result"
    }
   ],
   "source": [
    "# trying to select a rectangular region\n",
    "arr[[1, 5, 7, 2]][:, [0, 3, 1, 2]]"
   ]
  },
  {
   "cell_type": "markdown",
   "id": "9787b831-05f8-4239-b030-47f5066718b2",
   "metadata": {},
   "source": [
    "### Transposing Arrays and Swapping Axes\n",
    "Transposing is a special form of reshaping that similiarly **returns a view on the underlying data without copying anything**. Arrays have the `transpose` method and also the special `T` attribute."
   ]
  },
  {
   "cell_type": "code",
   "execution_count": 62,
   "id": "24f968ff-feef-4205-a9c0-17ebbf8da8cb",
   "metadata": {},
   "outputs": [
    {
     "data": {
      "text/plain": [
       "array([[0, 1, 2],\n",
       "       [3, 4, 5]])"
      ]
     },
     "execution_count": 62,
     "metadata": {},
     "output_type": "execute_result"
    }
   ],
   "source": [
    "arr = np.arange(6).reshape(2,3)\n",
    "arr"
   ]
  },
  {
   "cell_type": "code",
   "execution_count": 63,
   "id": "541d18d5-ddcb-466e-805f-9b316cb6a083",
   "metadata": {},
   "outputs": [
    {
     "data": {
      "text/plain": [
       "array([[0, 3],\n",
       "       [1, 4],\n",
       "       [2, 5]])"
      ]
     },
     "execution_count": 63,
     "metadata": {},
     "output_type": "execute_result"
    }
   ],
   "source": [
    "arr.T"
   ]
  },
  {
   "cell_type": "markdown",
   "id": "b64c6944-9b90-4eba-940d-92d3b3efde35",
   "metadata": {},
   "source": [
    "## Universal Functions\n",
    "***ufunc***, short for universal function, is a function that performs element-wise operations on data in ndarrays."
   ]
  },
  {
   "cell_type": "code",
   "execution_count": 64,
   "id": "c87b5046-422c-48ea-9acb-64932af91f25",
   "metadata": {},
   "outputs": [
    {
     "data": {
      "text/plain": [
       "array([0.        , 1.        , 1.41421356, 1.73205081, 2.        ,\n",
       "       2.23606798, 2.44948974, 2.64575131, 2.82842712, 3.        ])"
      ]
     },
     "execution_count": 64,
     "metadata": {},
     "output_type": "execute_result"
    }
   ],
   "source": [
    "# unary ufuncs\n",
    "arr = np.arange(10)\n",
    "np.sqrt(arr)"
   ]
  },
  {
   "cell_type": "code",
   "execution_count": 65,
   "id": "8cdacd92-d7be-4cf9-b0e8-db2898dae5ef",
   "metadata": {},
   "outputs": [
    {
     "data": {
      "text/plain": [
       "array([1.00000000e+00, 2.71828183e+00, 7.38905610e+00, 2.00855369e+01,\n",
       "       5.45981500e+01, 1.48413159e+02, 4.03428793e+02, 1.09663316e+03,\n",
       "       2.98095799e+03, 8.10308393e+03])"
      ]
     },
     "execution_count": 65,
     "metadata": {},
     "output_type": "execute_result"
    }
   ],
   "source": [
    "np.exp(arr)"
   ]
  },
  {
   "cell_type": "code",
   "execution_count": 66,
   "id": "b7605584-9bb1-4c7c-a808-e57fba847de5",
   "metadata": {},
   "outputs": [
    {
     "data": {
      "text/plain": [
       "array([ 0.7741251 , -0.13054798,  0.92974564, -0.83160733,  0.90103776,\n",
       "        0.68551387, -0.34032336, -0.08283191])"
      ]
     },
     "execution_count": 66,
     "metadata": {},
     "output_type": "execute_result"
    }
   ],
   "source": [
    "# binary ufuncs\n",
    "x = np.random.randn(8)\n",
    "y = np.random.randn(8)\n",
    "np.maximum(x, y)"
   ]
  },
  {
   "cell_type": "markdown",
   "id": "d97a29f4-faf3-4de6-9d88-822f536ff1c9",
   "metadata": {},
   "source": [
    "## Array-Oriented Programming with Arrays\n"
   ]
  },
  {
   "cell_type": "code",
   "execution_count": 67,
   "id": "e8b67be5-7fb6-4d53-a266-89ed68f5febc",
   "metadata": {},
   "outputs": [],
   "source": [
    "points = np.arange(-5, 5, 0.01)\n",
    "xs, ys = np.meshgrid(points, points)"
   ]
  },
  {
   "cell_type": "code",
   "execution_count": 70,
   "id": "e0381213-f49d-4cd5-a18c-79d361d2988b",
   "metadata": {},
   "outputs": [
    {
     "data": {
      "text/plain": [
       "array([[-5.  , -4.99, -4.98, ...,  4.97,  4.98,  4.99],\n",
       "       [-5.  , -4.99, -4.98, ...,  4.97,  4.98,  4.99],\n",
       "       [-5.  , -4.99, -4.98, ...,  4.97,  4.98,  4.99],\n",
       "       ...,\n",
       "       [-5.  , -4.99, -4.98, ...,  4.97,  4.98,  4.99],\n",
       "       [-5.  , -4.99, -4.98, ...,  4.97,  4.98,  4.99],\n",
       "       [-5.  , -4.99, -4.98, ...,  4.97,  4.98,  4.99]])"
      ]
     },
     "execution_count": 70,
     "metadata": {},
     "output_type": "execute_result"
    }
   ],
   "source": [
    "# think of xs as points on the x axis, ys as points on the y axis \n",
    "xs"
   ]
  },
  {
   "cell_type": "code",
   "execution_count": 71,
   "id": "dc4a3b53-e350-4738-82f1-0508663c26ea",
   "metadata": {},
   "outputs": [
    {
     "data": {
      "text/plain": [
       "array([[-5.  , -5.  , -5.  , ..., -5.  , -5.  , -5.  ],\n",
       "       [-4.99, -4.99, -4.99, ..., -4.99, -4.99, -4.99],\n",
       "       [-4.98, -4.98, -4.98, ..., -4.98, -4.98, -4.98],\n",
       "       ...,\n",
       "       [ 4.97,  4.97,  4.97, ...,  4.97,  4.97,  4.97],\n",
       "       [ 4.98,  4.98,  4.98, ...,  4.98,  4.98,  4.98],\n",
       "       [ 4.99,  4.99,  4.99, ...,  4.99,  4.99,  4.99]])"
      ]
     },
     "execution_count": 71,
     "metadata": {},
     "output_type": "execute_result"
    }
   ],
   "source": [
    "ys"
   ]
  },
  {
   "cell_type": "code",
   "execution_count": 72,
   "id": "e4a2f166-54f6-4f60-9b0f-fcc618e505ce",
   "metadata": {},
   "outputs": [],
   "source": [
    "z = np.sqrt(xs **2 + ys**2)"
   ]
  },
  {
   "cell_type": "markdown",
   "id": "9745ae51-a3e9-4bbf-bf4a-7fcf412b2f38",
   "metadata": {},
   "source": [
    "### Expressing Conditional Logic as Array Operations"
   ]
  },
  {
   "cell_type": "code",
   "execution_count": 73,
   "id": "f26e30ee-4d89-42f1-aa6d-5d415a67b22a",
   "metadata": {},
   "outputs": [],
   "source": [
    "# list comprehension edition for conditional logic\n",
    "xarr = np.array([1.1, 1.2, 1.3, 1.4, 1.5])\n",
    "yarr = np.array([2.1, 2.2, 2.3, 2.4, 2.5])\n",
    "cond = np.array([True, False, True, True, False])"
   ]
  },
  {
   "cell_type": "code",
   "execution_count": 74,
   "id": "ccb7ccc9-d0e4-4ad4-bea0-370518c6252a",
   "metadata": {},
   "outputs": [
    {
     "data": {
      "text/plain": [
       "[1.1, 2.2, 1.3, 1.4, 2.5]"
      ]
     },
     "execution_count": 74,
     "metadata": {},
     "output_type": "execute_result"
    }
   ],
   "source": [
    "result = [(x if c else y) for x,y,c in zip(xarr, yarr, cond)]\n",
    "result"
   ]
  },
  {
   "cell_type": "code",
   "execution_count": 75,
   "id": "60506eb3-965b-4187-b943-b12c12daaa50",
   "metadata": {},
   "outputs": [
    {
     "data": {
      "text/plain": [
       "array([1.1, 2.2, 1.3, 1.4, 2.5])"
      ]
     },
     "execution_count": 75,
     "metadata": {},
     "output_type": "execute_result"
    }
   ],
   "source": [
    "# np.where edition for conditional logic\n",
    "result = np.where(cond, xarr, yarr)\n",
    "result"
   ]
  },
  {
   "cell_type": "markdown",
   "id": "0e823541-afa3-48c7-8348-eb72ff5e9b83",
   "metadata": {},
   "source": [
    "### Mathematical and Statiscal Methods\n",
    "A set of mathematical functions that compute statistics about an entire array or about the data along an axis are accessible as methods of the array class and the top-level NumPy function."
   ]
  },
  {
   "cell_type": "code",
   "execution_count": 76,
   "id": "f1abbae0-e342-4ea5-adcc-c0e0b70a358f",
   "metadata": {},
   "outputs": [
    {
     "data": {
      "text/plain": [
       "array([[-0.32270463, -2.47923282,  0.51142065,  1.64402202],\n",
       "       [-1.11875424, -0.50816377, -0.24412379, -0.35906071],\n",
       "       [-0.80848479, -1.5290442 ,  0.33861759, -1.84812779],\n",
       "       [-0.38523178, -1.14234316,  1.07015372, -0.7025341 ],\n",
       "       [-0.742273  ,  0.62327938, -0.24617117, -0.87927529]])"
      ]
     },
     "execution_count": 76,
     "metadata": {},
     "output_type": "execute_result"
    }
   ],
   "source": [
    "arr = np.random.randn(5, 4)\n",
    "arr"
   ]
  },
  {
   "cell_type": "code",
   "execution_count": 77,
   "id": "24bf43ef-aa81-4e16-bce1-d4f4e2a01fbe",
   "metadata": {},
   "outputs": [
    {
     "data": {
      "text/plain": [
       "-0.45640159378569933"
      ]
     },
     "execution_count": 77,
     "metadata": {},
     "output_type": "execute_result"
    }
   ],
   "source": [
    "# find the mean of an array\n",
    "arr.mean()"
   ]
  },
  {
   "cell_type": "code",
   "execution_count": 78,
   "id": "9d287064-ee77-42f0-a28d-9958842a990f",
   "metadata": {},
   "outputs": [
    {
     "data": {
      "text/plain": [
       "-0.45640159378569933"
      ]
     },
     "execution_count": 78,
     "metadata": {},
     "output_type": "execute_result"
    }
   ],
   "source": [
    "# using the top-level NumPy function to find the mean of an array\n",
    "np.mean(arr)"
   ]
  },
  {
   "cell_type": "code",
   "execution_count": 79,
   "id": "1cc9a3d4-f9b3-4038-9e81-e134217770ac",
   "metadata": {},
   "outputs": [
    {
     "data": {
      "text/plain": [
       "array([-0.67548969, -1.00710091,  0.2859794 , -0.42899517])"
      ]
     },
     "execution_count": 79,
     "metadata": {},
     "output_type": "execute_result"
    }
   ],
   "source": [
    "# computing the mean over the axis 0\n",
    "arr.mean(axis=0)"
   ]
  },
  {
   "cell_type": "code",
   "execution_count": 80,
   "id": "e77e1e4f-f072-4ec5-8055-1121dc23ea07",
   "metadata": {},
   "outputs": [
    {
     "data": {
      "text/plain": [
       "array([-0.67548969, -1.00710091,  0.2859794 , -0.42899517])"
      ]
     },
     "execution_count": 80,
     "metadata": {},
     "output_type": "execute_result"
    }
   ],
   "source": [
    "np.mean(arr, axis=0)"
   ]
  },
  {
   "cell_type": "markdown",
   "id": "09c4402b-83ea-47de-b7b4-66c2c1327cfa",
   "metadata": {},
   "source": [
    "### Methods for Boolean Arrays\n",
    "Boolean values are coerced to 1 (True) and 0 (False) in the preceding methods. Thus, sum is often used as a means of counting True values in a boolean array."
   ]
  },
  {
   "cell_type": "code",
   "execution_count": 81,
   "id": "a6c5de41-5765-4a9c-93ee-f88dfe1b6293",
   "metadata": {},
   "outputs": [
    {
     "data": {
      "text/plain": [
       "51"
      ]
     },
     "execution_count": 81,
     "metadata": {},
     "output_type": "execute_result"
    }
   ],
   "source": [
    "arr = np.random.randn(100)\n",
    "(arr > 0).sum() # Number of positive values"
   ]
  },
  {
   "cell_type": "markdown",
   "id": "9be190bb-95ac-4e36-a25a-a9ed0e5dbbf5",
   "metadata": {},
   "source": [
    "There are two additional methods, `any` and `all`, useful especially for boolean arrays. `any` tests whether one or more values in an array is True, while `all` checks if every value is True."
   ]
  },
  {
   "cell_type": "code",
   "execution_count": 82,
   "id": "b6452132-6b40-4092-aaab-78d3779b3598",
   "metadata": {},
   "outputs": [],
   "source": [
    "bools = np.array([False, False, True, False])"
   ]
  },
  {
   "cell_type": "code",
   "execution_count": 83,
   "id": "bedd41dc-81b0-4f1c-9abb-0736c210a289",
   "metadata": {},
   "outputs": [
    {
     "data": {
      "text/plain": [
       "True"
      ]
     },
     "execution_count": 83,
     "metadata": {},
     "output_type": "execute_result"
    }
   ],
   "source": [
    "bools.any()"
   ]
  },
  {
   "cell_type": "code",
   "execution_count": 84,
   "id": "3b2d67b1-5233-45ab-8462-752cb9230490",
   "metadata": {},
   "outputs": [
    {
     "data": {
      "text/plain": [
       "False"
      ]
     },
     "execution_count": 84,
     "metadata": {},
     "output_type": "execute_result"
    }
   ],
   "source": [
    "bools.all()"
   ]
  },
  {
   "cell_type": "markdown",
   "id": "2b09012a-dbd4-4524-b392-aeab6198acc0",
   "metadata": {},
   "source": [
    "### Sorting\n",
    "NumPy arrays can be **sorted in-place** with the `sort` method."
   ]
  },
  {
   "cell_type": "code",
   "execution_count": 86,
   "id": "c7b69d4f-4d51-4b8c-924d-215ce894c20d",
   "metadata": {},
   "outputs": [
    {
     "data": {
      "text/plain": [
       "array([-0.64050099,  0.37239892,  0.48466042,  0.0832035 , -0.24079602,\n",
       "       -0.62832189])"
      ]
     },
     "execution_count": 86,
     "metadata": {},
     "output_type": "execute_result"
    }
   ],
   "source": [
    "arr = np.random.randn(6)\n",
    "arr"
   ]
  },
  {
   "cell_type": "code",
   "execution_count": 87,
   "id": "1b49468d-36b6-4853-9b2d-c3bd7a5e4c50",
   "metadata": {},
   "outputs": [],
   "source": [
    "arr.sort()"
   ]
  },
  {
   "cell_type": "code",
   "execution_count": 88,
   "id": "dde51e36-4864-462d-9988-43d1d6761288",
   "metadata": {},
   "outputs": [
    {
     "data": {
      "text/plain": [
       "array([-0.64050099, -0.62832189, -0.24079602,  0.0832035 ,  0.37239892,\n",
       "        0.48466042])"
      ]
     },
     "execution_count": 88,
     "metadata": {},
     "output_type": "execute_result"
    }
   ],
   "source": [
    "arr"
   ]
  },
  {
   "cell_type": "markdown",
   "id": "7099992f-419d-46ad-a1e0-58c6e8a38f15",
   "metadata": {},
   "source": [
    "We can sort each one-dimensional section of values in a multidimensional array in-place along an axis by passing the axis number to sort."
   ]
  },
  {
   "cell_type": "code",
   "execution_count": 89,
   "id": "f45a9758-454a-4113-b5b2-f177243816df",
   "metadata": {},
   "outputs": [
    {
     "data": {
      "text/plain": [
       "array([[ 0.22066993,  1.28272713, -2.80933259],\n",
       "       [ 1.24150303,  0.6821006 ,  0.21857812],\n",
       "       [ 0.38492004,  2.30910114,  0.354785  ],\n",
       "       [-0.99229831, -0.81723761,  0.19111813],\n",
       "       [ 0.46279363,  0.11871894,  0.7152068 ]])"
      ]
     },
     "execution_count": 89,
     "metadata": {},
     "output_type": "execute_result"
    }
   ],
   "source": [
    "arr = np.random.randn(5, 3)\n",
    "arr"
   ]
  },
  {
   "cell_type": "code",
   "execution_count": 90,
   "id": "5b28c84a-fddf-45f4-a7c5-1bcaff900e0a",
   "metadata": {},
   "outputs": [],
   "source": [
    "arr.sort(1)"
   ]
  },
  {
   "cell_type": "code",
   "execution_count": 91,
   "id": "8254c32c-6b65-4066-aff6-6a3220834e70",
   "metadata": {},
   "outputs": [
    {
     "data": {
      "text/plain": [
       "array([[-2.80933259,  0.22066993,  1.28272713],\n",
       "       [ 0.21857812,  0.6821006 ,  1.24150303],\n",
       "       [ 0.354785  ,  0.38492004,  2.30910114],\n",
       "       [-0.99229831, -0.81723761,  0.19111813],\n",
       "       [ 0.11871894,  0.46279363,  0.7152068 ]])"
      ]
     },
     "execution_count": 91,
     "metadata": {},
     "output_type": "execute_result"
    }
   ],
   "source": [
    "arr"
   ]
  },
  {
   "cell_type": "markdown",
   "id": "10de6f53-b053-41de-882e-679400c305c3",
   "metadata": {},
   "source": [
    "The top-level method `np.sort` returns a sorted copy of an array instead of modifying the array in-place. A quick-and-dirty way to compute the quantiles of an array is to sort it and select the value at a particular rank."
   ]
  },
  {
   "cell_type": "code",
   "execution_count": 92,
   "id": "d60dff69-833a-4ff6-ad0a-5c052a71cea5",
   "metadata": {},
   "outputs": [
    {
     "data": {
      "text/plain": [
       "-1.5942713719535697"
      ]
     },
     "execution_count": 92,
     "metadata": {},
     "output_type": "execute_result"
    }
   ],
   "source": [
    "large_arr = np.random.randn(1000)\n",
    "large_arr.sort()\n",
    "large_arr[int(0.05 * len(large_arr))] # 5% quantile"
   ]
  },
  {
   "cell_type": "markdown",
   "id": "26dbe310-0992-4967-99ca-713a9742a5ee",
   "metadata": {},
   "source": [
    "### Unique and Other Set Logic"
   ]
  },
  {
   "cell_type": "code",
   "execution_count": 93,
   "id": "33b52541-a820-4206-a704-1363b92d8dc0",
   "metadata": {},
   "outputs": [
    {
     "data": {
      "text/plain": [
       "array([1, 2, 3, 4, 6])"
      ]
     },
     "execution_count": 93,
     "metadata": {},
     "output_type": "execute_result"
    }
   ],
   "source": [
    "# np.unique returns the sorted unique values in an array\n",
    "numbers = np.array([1, 2, 3, 3, 4, 4, 6])\n",
    "np.unique(numbers)"
   ]
  },
  {
   "cell_type": "code",
   "execution_count": 94,
   "id": "41902dc4-16cf-47a1-907e-ecfe3d916c1e",
   "metadata": {},
   "outputs": [
    {
     "data": {
      "text/plain": [
       "[1, 2, 3, 4, 6]"
      ]
     },
     "execution_count": 94,
     "metadata": {},
     "output_type": "execute_result"
    }
   ],
   "source": [
    "# pure python edition\n",
    "sorted(set(numbers))"
   ]
  }
 ],
 "metadata": {
  "kernelspec": {
   "display_name": "Python 3 (ipykernel)",
   "language": "python",
   "name": "python3"
  },
  "language_info": {
   "codemirror_mode": {
    "name": "ipython",
    "version": 3
   },
   "file_extension": ".py",
   "mimetype": "text/x-python",
   "name": "python",
   "nbconvert_exporter": "python",
   "pygments_lexer": "ipython3",
   "version": "3.9.7"
  },
  "nikola": {
   "category": "Python, Numpy",
   "date": "2021-09-20",
   "slug": "numpy-notes-python-data-analysis",
   "tags": "Python",
   "title": "Numpy Notes: Python data analysis"
  },
  "toc-autonumbering": false,
  "toc-showcode": false,
  "toc-showtags": false
 },
 "nbformat": 4,
 "nbformat_minor": 5
}
